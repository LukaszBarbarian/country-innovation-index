{
 "cells": [
  {
   "cell_type": "code",
   "execution_count": 0,
   "metadata": {
    "application/vnd.databricks.v1+cell": {
     "cellMetadata": {},
     "inputWidgets": {},
     "nuid": "8712f741-f496-4d9a-ac16-f6c247fc88b5",
     "showTitle": false,
     "tableResultSettingsMap": {},
     "title": ""
    }
   },
   "outputs": [],
   "source": [
    "import sys\n",
    "import os\n",
    "\n",
    "notebook_file_path = dbutils.notebook.entry_point.getDbutils().notebook().getContext().notebookPath().get()\n",
    "notebook_dir = os.path.dirname(notebook_file_path)\n",
    "databricks_root_for_imports = os.path.abspath(os.path.join(notebook_dir, \"../..\"))\n",
    "\n",
    "if databricks_root_for_imports not in sys.path:\n",
    "    sys.path.insert(0, databricks_root_for_imports)\n",
    "    print(f\"Dodano '{databricks_root_for_imports}' do ścieżki Pythona (sys.path).\")\n",
    "else:\n",
    "    print(f\"'{databricks_root_for_imports}' jest już w ścieżce Pythona.\")\n",
    "\n",
    "dbutils.library.restartPython()\n",
    "\n",
    "\n"
   ]
  }
 ],
 "metadata": {
  "application/vnd.databricks.v1+notebook": {
   "computePreferences": null,
   "dashboards": [],
   "environmentMetadata": {
    "base_environment": "",
    "environment_version": "2"
   },
   "inputWidgetPreferences": null,
   "language": "python",
   "notebookMetadata": {
    "pythonIndentUnit": 4
   },
   "notebookName": "setup",
   "widgets": {}
  },
  "language_info": {
   "name": "python"
  }
 },
 "nbformat": 4,
 "nbformat_minor": 0
}
