{
 "cells": [
  {
   "cell_type": "markdown",
   "metadata": {
    "application/vnd.databricks.v1+cell": {
     "cellMetadata": {},
     "inputWidgets": {},
     "nuid": "108893e4-1bee-4792-ad57-52c758228f3f",
     "showTitle": false,
     "tableResultSettingsMap": {},
     "title": ""
    }
   },
   "source": [
    "Insert databricks module"
   ]
  },
  {
   "cell_type": "code",
   "execution_count": 0,
   "metadata": {
    "application/vnd.databricks.v1+cell": {
     "cellMetadata": {
      "byteLimit": 2048000,
      "rowLimit": 10000
     },
     "inputWidgets": {},
     "nuid": "029bc0d0-910a-482b-9c42-be45fea4c58a",
     "showTitle": false,
     "tableResultSettingsMap": {},
     "title": ""
    },
    "vscode": {
     "languageId": "plaintext"
    }
   },
   "outputs": [],
   "source": [
    "import sys\n",
    "import os\n",
    "\n",
    "print(sys.path)\n",
    "\n",
    "# Pobierz bieżący katalog roboczy\n",
    "# Na Databricks to zazwyczaj /Workspace/Users/.../cv-demo1/databricks/notebooks\n",
    "current_working_dir = os.getcwd()\n",
    "\n",
    "# Przejdź dwa poziomy w górę, aby dotrzeć do katalogu głównego repozytorium (cv-demo1)\n",
    "# Przykład: /Workspace/Users/.../cv-demo1/databricks/notebooks -> /Workspace/Users/.../cv-demo1/databricks -> /Workspace/Users/.../cv-demo1\n",
    "project_root = os.path.abspath(os.path.join(current_working_dir, '..', '..'))\n",
    "\n",
    "# Dodaj główny katalog projektu do sys.path\n",
    "if project_root not in sys.path:\n",
    "    sys.path.insert(0, project_root)\n",
    "    print(f\"Dodano '{project_root}' do sys.path.\")\n",
    "else:\n",
<<<<<<< Updated upstream:azure_databricks/common/notebooks/setup.ipynb
    "    print(f\"'{databricks_root_for_imports}' jest już w ścieżce Pythona.\")\n",
    "\n",
    "dbutils.library.restartPython()\n"
=======
    "    print(f\"'{project_root}' już jest w sys.path.\")"
>>>>>>> Stashed changes:azure_databricks/notebooks/setup.ipynb
   ]
  }
 ],
 "metadata": {
  "application/vnd.databricks.v1+notebook": {
   "computePreferences": null,
   "dashboards": [],
   "environmentMetadata": null,
   "inputWidgetPreferences": null,
   "language": "python",
   "notebookMetadata": {
    "pythonIndentUnit": 4
   },
   "notebookName": "setup",
   "widgets": {}
  },
  "language_info": {
   "name": "python"
  }
 },
 "nbformat": 4,
 "nbformat_minor": 0
}
