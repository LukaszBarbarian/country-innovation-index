{
 "cells": [
  {
   "cell_type": "markdown",
   "metadata": {},
   "source": [
    "Insert databricks module"
   ]
  },
  {
   "cell_type": "code",
   "execution_count": null,
   "metadata": {
    "vscode": {
     "languageId": "plaintext"
    }
   },
   "outputs": [],
   "source": [
    "import sys\n",
    "import os\n",
    "\n",
    "notebook_file_path = dbutils.notebook.entry_point.getDbutils().notebook().getContext().notebookPath().get()\n",
    "notebook_dir = os.path.dirname(notebook_file_path)\n",
    "databricks_root_for_imports = os.path.abspath(os.path.join(notebook_dir, \"../..\"))\n",
    "\n",
    "if databricks_root_for_imports not in sys.path:\n",
    "    sys.path.insert(0, databricks_root_for_imports)\n",
    "    print(f\"Dodano '{databricks_root_for_imports}' do ścieżki Pythona (sys.path).\")\n",
    "else:\n",
    "    print(f\"'{databricks_root_for_imports}' jest już w ścieżce Pythona.\")"
   ]
  }
 ],
 "metadata": {
  "language_info": {
   "name": "python"
  }
 },
 "nbformat": 4,
 "nbformat_minor": 2
}
