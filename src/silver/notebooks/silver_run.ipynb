{
 "cells": [
  {
   "cell_type": "code",
   "execution_count": null,
   "metadata": {},
   "outputs": [],
   "source": [
    "from asyncio.log import logger\n",
    "from re import I\n",
    "import os, sys\n",
    "import sys\n",
    "import asyncio\n",
    "from injector import V\n",
    "\n",
    "\n",
    "from src.common.azure_clients.event_grid_client_manager import EventGridClientManager, EventGridNotifier\n",
    "from src.common.models.orchestrator_result import OrchestratorResult\n",
    "from src.silver.context.silver_parser import SilverParser\n",
    "from src.common.spark.spark_service import SparkService\n",
    "from src.common.config.config_manager import ConfigManager\n",
    "from src.common.enums.etl_layers import ETLLayer\n",
    "from src.common.factories.orchestrator_factory import OrchestratorFactory\n",
    "import src.silver.init.silver_init "
   ]
  },
  {
   "cell_type": "code",
   "execution_count": null,
   "metadata": {},
   "outputs": [],
   "source": [
    "def send_event_grid_notification(config: ConfigManager, orchestrator_result: OrchestratorResult):\n",
    "        \"\"\"\n",
    "        Tworzy i wysyła powiadomienie Event Grid na podstawie OrchestratorResult.\n",
    "        \"\"\"\n",
    "        logger.info(f\"Sending Event Grid notification for correlation ID: {orchestrator_result.correlation_id}\")\n",
    "        \n",
    "\n",
    "        payload = {\n",
    "            \"layer\": orchestrator_result.etl_layer.value,\n",
    "            \"env\": orchestrator_result.env.value,\n",
    "            \"status\": orchestrator_result.status,\n",
    "            \"message_date\": orchestrator_result.timestamp.isoformat(),\n",
    "            \"correlation_id\": orchestrator_result.correlation_id,\n",
    "            \"manifest\": \"/gold/manifest/dev.manifest.json\",\n",
    "            \"summary_processing_uri\": orchestrator_result.summary_url,\n",
    "            \"duration_in_ms\": orchestrator_result.duration_in_ms\n",
    "        }\n",
    "\n",
    "        try:\n",
    "            notifier = EventGridNotifier(config.get(\"EVENT_GRID_ENDPOINT\"), config.get(\"EVENT_GRID_KEY\"))\n",
    "            notifier.send_notification(orchestrator_result.etl_layer.value, \n",
    "                                       f\"{orchestrator_result.etl_layer.value.capitalize()}ProcessCompleted\",\n",
    "                                       payload,\n",
    "                                       orchestrator_result.correlation_id)\n",
    "            \n",
    "            logger.info(\"Event Grid notification sent successfully.\")\n",
    "        except Exception as e:\n",
    "            logger.error(f\"Failed to send Event Grid notification: {e}\", exc_info=True)\n",
    "            "
   ]
  },
  {
   "cell_type": "code",
   "execution_count": 21,
   "metadata": {},
   "outputs": [
    {
     "name": "stderr",
     "output_type": "stream",
     "text": [
      "Passed unknown parameter: TEST\n",
      "Input notebook does not contain a cell with tag 'parameters'\n",
      "Executing: 100%|██████████| 2/2 [00:04<00:00,  2.07s/cell]\n"
     ]
    },
    {
     "data": {
      "text/plain": [
       "{'cells': [{'id': 'e22ec407',\n",
       "   'cell_type': 'code',\n",
       "   'metadata': {'tags': ['injected-parameters'],\n",
       "    'papermill': {'exception': False,\n",
       "     'start_time': '2025-10-15T08:26:01.822042',\n",
       "     'end_time': '2025-10-15T08:26:01.834106',\n",
       "     'duration': 0.012064,\n",
       "     'status': 'completed'},\n",
       "    'execution': {'iopub.status.busy': '2025-10-15T08:26:01.825022Z',\n",
       "     'iopub.execute_input': '2025-10-15T08:26:01.826020Z',\n",
       "     'shell.execute_reply': '2025-10-15T08:26:01.832088Z',\n",
       "     'iopub.status.idle': '2025-10-15T08:26:01.833100Z'}},\n",
       "   'execution_count': 1,\n",
       "   'source': '# Parameters\\nTEST = \"I\\'m here 2\"\\n',\n",
       "   'outputs': []},\n",
       "  {'cell_type': 'code',\n",
       "   'execution_count': 2,\n",
       "   'metadata': {'tags': [],\n",
       "    'papermill': {'exception': False,\n",
       "     'start_time': '2025-10-15T08:26:01.836101',\n",
       "     'end_time': '2025-10-15T08:26:01.844165',\n",
       "     'duration': 0.008064,\n",
       "     'status': 'completed'},\n",
       "    'execution': {'iopub.status.busy': '2025-10-15T08:26:01.839141Z',\n",
       "     'iopub.execute_input': '2025-10-15T08:26:01.840103Z',\n",
       "     'iopub.status.idle': '2025-10-15T08:26:01.843068Z',\n",
       "     'shell.execute_reply': '2025-10-15T08:26:01.843068Z'}},\n",
       "   'outputs': [{'output_type': 'stream',\n",
       "     'name': 'stdout',\n",
       "     'text': \"I'm here\\n\"}],\n",
       "   'source': 'TEST = \"I\\'m here\"\\n\\nprint(TEST)\\n',\n",
       "   'id': '4fa05a20'}],\n",
       " 'metadata': {'kernelspec': {'display_name': '.venv',\n",
       "   'language': 'python',\n",
       "   'name': 'python3'},\n",
       "  'language_info': {'name': 'python',\n",
       "   'version': '3.12.10',\n",
       "   'mimetype': 'text/x-python',\n",
       "   'codemirror_mode': {'name': 'ipython', 'version': 3},\n",
       "   'pygments_lexer': 'ipython3',\n",
       "   'nbconvert_exporter': 'python',\n",
       "   'file_extension': '.py'},\n",
       "  'orig_nbformat_minor': 2,\n",
       "  'papermill': {'default_parameters': {},\n",
       "   'parameters': {'TEST': \"I'm here 2\"},\n",
       "   'environment_variables': {},\n",
       "   'version': '2.6.0',\n",
       "   'input_path': '../../../src/azure_databricks/notebooks/test.ipynb',\n",
       "   'output_path': '../../../src/azure_databricks/notebooks/test2.ipynb',\n",
       "   'start_time': '2025-10-15T08:26:00.529337',\n",
       "   'end_time': '2025-10-15T08:26:04.671538',\n",
       "   'duration': 4.142201,\n",
       "   'exception': None}},\n",
       " 'nbformat': 4,\n",
       " 'nbformat_minor': 5}"
      ]
     },
     "execution_count": 21,
     "metadata": {},
     "output_type": "execute_result"
    }
   ],
   "source": [
    "dbutils.widgets.text(\"summary_json\", \"\")\n",
    "dbutils.widgets.text(\"manifest_json\", \"\")\n",
    "\n",
    "manifest_json = dbutils.widgets.get(\"manifest_json\")\n",
    "summary_json = dbutils.widgets.get(\"summary_json\")\n",
    "\n",
    "\n",
    "config = ConfigManager()\n",
    "spark = SparkService(config)\n",
    "spark.start_local()\n",
    "\n",
    "context = SilverParser(config).parse(manifest_json, summary_json)\n",
    "\n",
    "orchestrator = OrchestratorFactory.get_instance(ETLLayer.SILVER, spark=spark, config=config)\n",
    "result = asyncio.run(orchestrator.execute(context))\n",
    "send_event_grid_notification(config=config, orchestrator_result=result)"
   ]
  },
  {
   "cell_type": "code",
   "execution_count": 14,
   "metadata": {},
   "outputs": [
    {
     "name": "stdout",
     "output_type": "stream",
     "text": [
      "I'm here\n"
     ]
    }
   ],
   "source": [
    "%run ../../../src/azure_databricks/notebooks/test.ipynb"
   ]
  }
 ],
 "metadata": {
  "kernelspec": {
   "display_name": ".venv",
   "language": "python",
   "name": "python3"
  },
  "language_info": {
   "codemirror_mode": {
    "name": "ipython",
    "version": 3
   },
   "file_extension": ".py",
   "mimetype": "text/x-python",
   "name": "python",
   "nbconvert_exporter": "python",
   "pygments_lexer": "ipython3",
   "version": "3.12.10"
  }
 },
 "nbformat": 4,
 "nbformat_minor": 2
}
