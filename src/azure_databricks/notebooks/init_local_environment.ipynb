{
 "cells": [
  {
   "cell_type": "code",
   "execution_count": 1,
   "metadata": {},
   "outputs": [
    {
     "name": "stdout",
     "output_type": "stream",
     "text": [
      "sys.path: ['d:\\\\projects\\\\cv-demo1\\\\src\\\\azure_databricks', 'C:\\\\Users\\\\Praca\\\\AppData\\\\Local\\\\Programs\\\\Python\\\\Python311\\\\python311.zip', 'C:\\\\Users\\\\Praca\\\\AppData\\\\Local\\\\Programs\\\\Python\\\\Python311\\\\DLLs', 'C:\\\\Users\\\\Praca\\\\AppData\\\\Local\\\\Programs\\\\Python\\\\Python311\\\\Lib', 'C:\\\\Users\\\\Praca\\\\AppData\\\\Local\\\\Programs\\\\Python\\\\Python311', 'd:\\\\projects\\\\cv-demo1\\\\.venv', '', 'd:\\\\projects\\\\cv-demo1\\\\.venv\\\\Lib\\\\site-packages', 'd:\\\\projects\\\\cv-demo1\\\\.venv\\\\Lib\\\\site-packages\\\\win32', 'd:\\\\projects\\\\cv-demo1\\\\.venv\\\\Lib\\\\site-packages\\\\win32\\\\lib', 'd:\\\\projects\\\\cv-demo1\\\\.venv\\\\Lib\\\\site-packages\\\\Pythonwin']\n"
     ]
    }
   ],
   "source": [
    "import sys\n",
    "import os\n",
    "\n",
    "base_path = os.path.abspath(os.path.join(os.getcwd(), \"..\", \"..\"))\n",
    "if base_path not in sys.path:\n",
    "    sys.path.insert(0, base_path)\n",
    "\n",
    "print(\"sys.path:\", sys.path)\n"
   ]
  },
  {
   "cell_type": "code",
   "execution_count": 2,
   "metadata": {},
   "outputs": [
    {
     "name": "stdout",
     "output_type": "stream",
     "text": [
      "✅ SparkSession gotowa!\n"
     ]
    }
   ],
   "source": [
    "import os\n",
    "import findspark\n",
    "SPARK_INSTALL_PATH = \"C:/spark/spark-3.5.6-bin-hadoop3\"\n",
    "findspark.init(SPARK_INSTALL_PATH)\n",
    "\n",
    "AZURE_STORAGE_ACCOUNT_NAME = \"demosurdevdatalake4418sa\"\n",
    "AZURE_STORAGE_ACCOUNT_KEY = os.getenv(\"AZURE_STORAGE_ACCOUNT_KEY\")\n",
    "AZURE_CONTAINER_NAME = \"bronze\"\n",
    "\n",
    "parquet_path = f\"abfss://{AZURE_CONTAINER_NAME}@{AZURE_STORAGE_ACCOUNT_NAME}.dfs.core.windows.net\"\n",
    "JAR_PATH = \"C:/spark/jars\"\n",
    "all_jars = \",\".join([\n",
    "    os.path.join(JAR_PATH, jar)\n",
    "    for jar in os.listdir(JAR_PATH) if jar.endswith(\".jar\")\n",
    "])\n",
    "\n",
    "from pyspark.sql import SparkSession\n",
    "\n",
    "spark = SparkSession.builder \\\n",
    "    .appName(\"SparkAzureABFSS\") \\\n",
    "    .master(\"local[*]\") \\\n",
    "    .config(\"spark.jars\", all_jars) \\\n",
    "    .config(f\"fs.azure.account.key.{AZURE_STORAGE_ACCOUNT_NAME}.dfs.core.windows.net\", AZURE_STORAGE_ACCOUNT_KEY) \\\n",
    "    .config(\"spark.hadoop.fs.azure.account.auth.type.\" + AZURE_STORAGE_ACCOUNT_NAME + \".dfs.core.windows.net\", \"SharedKey\") \\\n",
    "    .config(\"spark.hadoop.fs.azure.createRemoteFileSystemDuringInitialization\", \"true\") \\\n",
    "    .getOrCreate()\n",
    "\n",
    "print(\"✅ SparkSession gotowa!\")"
   ]
  }
 ],
 "metadata": {
  "kernelspec": {
   "display_name": ".venv",
   "language": "python",
   "name": "python3"
  },
  "language_info": {
   "codemirror_mode": {
    "name": "ipython",
    "version": 3
   },
   "file_extension": ".py",
   "mimetype": "text/x-python",
   "name": "python",
   "nbconvert_exporter": "python",
   "pygments_lexer": "ipython3",
   "version": "3.11.3"
  }
 },
 "nbformat": 4,
 "nbformat_minor": 2
}
