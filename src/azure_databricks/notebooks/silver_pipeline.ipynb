{
 "cells": [
  {
   "cell_type": "code",
   "execution_count": 1,
   "metadata": {},
   "outputs": [
    {
     "name": "stdout",
     "output_type": "stream",
     "text": [
      "sys.path: ['D:\\\\projects\\\\cv-demo1', 'D:\\\\projects\\\\cv-demo1\\\\src\\\\azure_databricks\\\\common\\\\notebooks', 'C:\\\\Users\\\\Praca\\\\AppData\\\\Local\\\\Programs\\\\Python\\\\Python312\\\\python312.zip', 'C:\\\\Users\\\\Praca\\\\AppData\\\\Local\\\\Programs\\\\Python\\\\Python312\\\\DLLs', 'C:\\\\Users\\\\Praca\\\\AppData\\\\Local\\\\Programs\\\\Python\\\\Python312\\\\Lib', 'C:\\\\Users\\\\Praca\\\\AppData\\\\Local\\\\Programs\\\\Python\\\\Python312', 'd:\\\\projects\\\\cv-demo1\\\\.venv', '', 'd:\\\\projects\\\\cv-demo1\\\\.venv\\\\Lib\\\\site-packages', 'd:\\\\projects\\\\cv-demo1\\\\.venv\\\\Lib\\\\site-packages\\\\win32', 'd:\\\\projects\\\\cv-demo1\\\\.venv\\\\Lib\\\\site-packages\\\\win32\\\\lib', 'd:\\\\projects\\\\cv-demo1\\\\.venv\\\\Lib\\\\site-packages\\\\Pythonwin']\n",
      "✅ SparkSession gotowa!\n"
     ]
    }
   ],
   "source": [
    "%run ../common/notebooks/init_local_environment.ipynb"
   ]
  },
  {
   "cell_type": "code",
   "execution_count": null,
   "metadata": {},
   "outputs": [],
   "source": [
    "import json\n",
    "\n",
    "# Ciąg znaków zawierający dane JSON\n",
    "json_string = \"\"\"\n",
    "{\n",
    "\t\"status\": \"COMPLETED\",\n",
    "\t\"correlationId\": \"1\",\n",
    "\t\"queueMessageId\": \"372c2e90-c4f0-4391-a674-27129fa0f7a6\",\n",
    "\t\"apiName\": \"NOBELPRIZE\",\n",
    "\t\"datasetName\": \"nobelPrizes\",\n",
    "\t\"layerName\": \"Bronze\",\n",
    "\t\"message\": \"API data successfully processed and stored to Bronze.\",\n",
    "\t\"apiResponseStatusCode\": null,\n",
    "\t\"outputPath\": \"https://demosurdevdatalake4418sa.blob.core.windows.net/bronze/NOBELPRIZE/2025/08/01/nobelPrizes_1_c237f2d9.json\",\n",
    "\t\"effectiveIntegrationRuntime\": \"AutoResolveIntegrationRuntime (North Europe)\",\n",
    "\t\"executionDuration\": 0,\n",
    "\t\"durationInQueue\": {\n",
    "\t\t\"integrationRuntimeQueue\": 0\n",
    "\t},\n",
    "\t\"billingReference\": {\n",
    "\t\t\"activityType\": \"ExternalActivity\",\n",
    "\t\t\"billableDuration\": [\n",
    "\t\t\t{\n",
    "\t\t\t\t\"meterType\": \"AzureIR\",\n",
    "\t\t\t\t\"duration\": 0.016666666666666666,\n",
    "\t\t\t\t\"unit\": \"Hours\"\n",
    "\t\t\t}\n",
    "\t\t]\n",
    "\t}\n",
    "}\n",
    "\"\"\"\n",
    "\n",
    "payload = json.loads(json_string)"
   ]
  },
  {
   "cell_type": "code",
   "execution_count": 8,
   "metadata": {},
   "outputs": [
    {
     "ename": "ValueError",
     "evalue": "Missing required fields in 'payload': correlation_id, queue_message_id, etl_layer, env",
     "output_type": "error",
     "traceback": [
      "\u001b[31m---------------------------------------------------------------------------\u001b[39m",
      "\u001b[31mValueError\u001b[39m                                Traceback (most recent call last)",
      "\u001b[36mCell\u001b[39m\u001b[36m \u001b[39m\u001b[32mIn[8]\u001b[39m\u001b[32m, line 7\u001b[39m\n\u001b[32m      4\u001b[39m \u001b[38;5;28;01mfrom\u001b[39;00m\u001b[38;5;250m \u001b[39m\u001b[34;01msrc\u001b[39;00m\u001b[34;01m.\u001b[39;00m\u001b[34;01mcommon\u001b[39;00m\u001b[34;01m.\u001b[39;00m\u001b[34;01mconfig\u001b[39;00m\u001b[34;01m.\u001b[39;00m\u001b[34;01mconfig_manager\u001b[39;00m\u001b[38;5;250m \u001b[39m\u001b[38;5;28;01mimport\u001b[39;00m ConfigManager\n\u001b[32m      6\u001b[39m payload_parser = SilverPayloadParser()\n\u001b[32m----> \u001b[39m\u001b[32m7\u001b[39m context = \u001b[43mpayload_parser\u001b[49m\u001b[43m.\u001b[49m\u001b[43mparse\u001b[49m\u001b[43m(\u001b[49m\u001b[43mpayload\u001b[49m\u001b[43m)\u001b[49m\n\u001b[32m      9\u001b[39m \u001b[38;5;66;03m# runtime_context = LayerRuntimeContext(spark=spark, layer_context=context)\u001b[39;00m\n\u001b[32m     10\u001b[39m \u001b[38;5;66;03m# config = ConfigManager()\u001b[39;00m\n\u001b[32m     11\u001b[39m \n\u001b[32m     12\u001b[39m \u001b[38;5;66;03m# orchestrator = SilverOrchestrator(config)\u001b[39;00m\n\u001b[32m     13\u001b[39m \n\u001b[32m     14\u001b[39m \u001b[38;5;66;03m# result = await orchestrator.run(runtime_context)\u001b[39;00m\n",
      "\u001b[36mFile \u001b[39m\u001b[32mD:\\projects\\cv-demo1\\src\\silver\\contexts\\silver_payload_parser.py:7\u001b[39m, in \u001b[36mSilverPayloadParser.parse\u001b[39m\u001b[34m(self, payload)\u001b[39m\n\u001b[32m      6\u001b[39m \u001b[38;5;28;01mdef\u001b[39;00m\u001b[38;5;250m \u001b[39m\u001b[34mparse\u001b[39m(\u001b[38;5;28mself\u001b[39m, payload) -> SilverContext:\n\u001b[32m----> \u001b[39m\u001b[32m7\u001b[39m     main_context = \u001b[38;5;28;43msuper\u001b[39;49m\u001b[43m(\u001b[49m\u001b[43m)\u001b[49m\u001b[43m.\u001b[49m\u001b[43mparse\u001b[49m\u001b[43m(\u001b[49m\u001b[43mpayload\u001b[49m\u001b[43m)\u001b[49m\n\u001b[32m      9\u001b[39m     config_payload = payload.get(\u001b[33m\"\u001b[39m\u001b[33mprocessing_config_payload\u001b[39m\u001b[33m\"\u001b[39m, {})\n\u001b[32m     11\u001b[39m     required_fields = [\n\u001b[32m     12\u001b[39m         \u001b[33m\"\u001b[39m\u001b[33mstatus\u001b[39m\u001b[33m\"\u001b[39m, \u001b[33m\"\u001b[39m\u001b[33mapiName\u001b[39m\u001b[33m\"\u001b[39m, \u001b[33m\"\u001b[39m\u001b[33mdatasetName\u001b[39m\u001b[33m\"\u001b[39m, \u001b[33m\"\u001b[39m\u001b[33mlayerName\u001b[39m\u001b[33m\"\u001b[39m, \u001b[33m\"\u001b[39m\u001b[33mmessage\u001b[39m\u001b[33m\"\u001b[39m,\n\u001b[32m     13\u001b[39m         \u001b[33m\"\u001b[39m\u001b[33mapiResponseStatusCode\u001b[39m\u001b[33m\"\u001b[39m, \u001b[33m\"\u001b[39m\u001b[33moutputPath\u001b[39m\u001b[33m\"\u001b[39m\n\u001b[32m     14\u001b[39m     ]\n",
      "\u001b[36mFile \u001b[39m\u001b[32mD:\\projects\\cv-demo1\\src\\common\\contexts\\payload_parser.py:13\u001b[39m, in \u001b[36mPayloadParser.parse\u001b[39m\u001b[34m(self, payload)\u001b[39m\n\u001b[32m     11\u001b[39m \u001b[38;5;28;01mdef\u001b[39;00m\u001b[38;5;250m \u001b[39m\u001b[34mparse\u001b[39m(\u001b[38;5;28mself\u001b[39m, payload: Dict[\u001b[38;5;28mstr\u001b[39m, Any]) -> BaseLayerContext:\n\u001b[32m---> \u001b[39m\u001b[32m13\u001b[39m     \u001b[38;5;28;43mself\u001b[39;49m\u001b[43m.\u001b[49m\u001b[43m_ensure_requires\u001b[49m\u001b[43m(\u001b[49m\u001b[43mrequires\u001b[49m\u001b[43m=\u001b[49m\u001b[43m[\u001b[49m\u001b[33;43m\"\u001b[39;49m\u001b[33;43mcorrelation_id\u001b[39;49m\u001b[33;43m\"\u001b[39;49m\u001b[43m,\u001b[49m\u001b[43m \u001b[49m\u001b[33;43m\"\u001b[39;49m\u001b[33;43mqueue_message_id\u001b[39;49m\u001b[33;43m\"\u001b[39;49m\u001b[43m,\u001b[49m\u001b[43m \u001b[49m\u001b[33;43m\"\u001b[39;49m\u001b[33;43metl_layer\u001b[39;49m\u001b[33;43m\"\u001b[39;49m\u001b[43m,\u001b[49m\u001b[43m \u001b[49m\u001b[33;43m\"\u001b[39;49m\u001b[33;43menv\u001b[39;49m\u001b[33;43m\"\u001b[39;49m\u001b[43m]\u001b[49m\u001b[43m,\u001b[49m\u001b[43m \u001b[49m\u001b[43mpayload\u001b[49m\u001b[43m=\u001b[49m\u001b[43mpayload\u001b[49m\u001b[43m)\u001b[49m\n\u001b[32m     15\u001b[39m     \u001b[38;5;28;01mreturn\u001b[39;00m BaseLayerContext(correlation_id=payload.get(\u001b[33m\"\u001b[39m\u001b[33mcorrelation_id\u001b[39m\u001b[33m\"\u001b[39m),\n\u001b[32m     16\u001b[39m                             queue_message_id=payload.get(\u001b[33m\"\u001b[39m\u001b[33mqueue_message_id\u001b[39m\u001b[33m\"\u001b[39m),\n\u001b[32m     17\u001b[39m                             etl_layer=\u001b[38;5;28mself\u001b[39m._map_etl_layer(payload.get(\u001b[33m\"\u001b[39m\u001b[33metl_layer\u001b[39m\u001b[33m\"\u001b[39m)),\n\u001b[32m     18\u001b[39m                             env=\u001b[38;5;28mself\u001b[39m._map_env(payload.get(\u001b[33m\"\u001b[39m\u001b[33menv\u001b[39m\u001b[33m\"\u001b[39m)))\n",
      "\u001b[36mFile \u001b[39m\u001b[32mD:\\projects\\cv-demo1\\src\\common\\contexts\\payload_parser.py:53\u001b[39m, in \u001b[36mPayloadParser._ensure_requires\u001b[39m\u001b[34m(self, requires, payload)\u001b[39m\n\u001b[32m     51\u001b[39m \u001b[38;5;28;01mif\u001b[39;00m \u001b[38;5;129;01mnot\u001b[39;00m \u001b[38;5;28mall\u001b[39m(field \u001b[38;5;129;01min\u001b[39;00m payload \u001b[38;5;28;01mfor\u001b[39;00m field \u001b[38;5;129;01min\u001b[39;00m requires):\n\u001b[32m     52\u001b[39m     missing_fields = [f \u001b[38;5;28;01mfor\u001b[39;00m f \u001b[38;5;129;01min\u001b[39;00m requires \u001b[38;5;28;01mif\u001b[39;00m f \u001b[38;5;129;01mnot\u001b[39;00m \u001b[38;5;129;01min\u001b[39;00m payload]\n\u001b[32m---> \u001b[39m\u001b[32m53\u001b[39m     \u001b[38;5;28;01mraise\u001b[39;00m \u001b[38;5;167;01mValueError\u001b[39;00m(\u001b[33mf\u001b[39m\u001b[33m\"\u001b[39m\u001b[33mMissing required fields in \u001b[39m\u001b[33m'\u001b[39m\u001b[33mpayload\u001b[39m\u001b[33m'\u001b[39m\u001b[33m: \u001b[39m\u001b[38;5;132;01m{\u001b[39;00m\u001b[33m'\u001b[39m\u001b[33m, \u001b[39m\u001b[33m'\u001b[39m.join(missing_fields)\u001b[38;5;132;01m}\u001b[39;00m\u001b[33m\"\u001b[39m)\n",
      "\u001b[31mValueError\u001b[39m: Missing required fields in 'payload': correlation_id, queue_message_id, etl_layer, env"
     ]
    }
   ],
   "source": [
    "from src.silver.orchestrators.silver_orchestrator import SilverOrchestrator\n",
    "from src.silver.contexts.layer_runtime_context import LayerRuntimeContext\n",
    "from src.silver.contexts.silver_payload_parser import SilverPayloadParser\n",
    "from src.common.config.config_manager import ConfigManager\n",
    "\n",
    "payload_parser = SilverPayloadParser()\n",
    "context = payload_parser.parse(payload)\n",
    "\n",
    "# runtime_context = LayerRuntimeContext(spark=spark, layer_context=context)\n",
    "# config = ConfigManager()\n",
    "\n",
    "# orchestrator = SilverOrchestrator(config)\n",
    "\n",
    "# result = await orchestrator.run(runtime_context)"
   ]
  }
 ],
 "metadata": {
  "kernelspec": {
   "display_name": ".venv",
   "language": "python",
   "name": "python3"
  },
  "language_info": {
   "codemirror_mode": {
    "name": "ipython",
    "version": 3
   },
   "file_extension": ".py",
   "mimetype": "text/x-python",
   "name": "python",
   "nbconvert_exporter": "python",
   "pygments_lexer": "ipython3",
   "version": "3.12.10"
  }
 },
 "nbformat": 4,
 "nbformat_minor": 2
}
