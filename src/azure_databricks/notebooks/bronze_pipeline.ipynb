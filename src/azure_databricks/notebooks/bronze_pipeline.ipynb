{
 "cells": [
  {
   "cell_type": "code",
   "execution_count": 1,
   "metadata": {},
   "outputs": [
    {
     "name": "stdout",
     "output_type": "stream",
     "text": [
      "sys.path: ['d:\\\\projects\\\\cv-demo1\\\\src', 'D:\\\\projects\\\\cv-demo1\\\\src\\\\azure_databricks\\\\common\\\\notebooks', 'C:\\\\Users\\\\Praca\\\\AppData\\\\Local\\\\Programs\\\\Python\\\\Python311\\\\python311.zip', 'C:\\\\Users\\\\Praca\\\\AppData\\\\Local\\\\Programs\\\\Python\\\\Python311\\\\DLLs', 'C:\\\\Users\\\\Praca\\\\AppData\\\\Local\\\\Programs\\\\Python\\\\Python311\\\\Lib', 'C:\\\\Users\\\\Praca\\\\AppData\\\\Local\\\\Programs\\\\Python\\\\Python311', 'd:\\\\projects\\\\cv-demo1\\\\.venv', '', 'd:\\\\projects\\\\cv-demo1\\\\.venv\\\\Lib\\\\site-packages', 'd:\\\\projects\\\\cv-demo1\\\\.venv\\\\Lib\\\\site-packages\\\\win32', 'd:\\\\projects\\\\cv-demo1\\\\.venv\\\\Lib\\\\site-packages\\\\win32\\\\lib', 'd:\\\\projects\\\\cv-demo1\\\\.venv\\\\Lib\\\\site-packages\\\\Pythonwin']\n",
      "✅ SparkSession gotowa!\n"
     ]
    }
   ],
   "source": [
    "%run ../common/notebooks/init_local_environment.ipynb"
   ]
  },
  {
   "cell_type": "code",
   "execution_count": 2,
   "metadata": {},
   "outputs": [
    {
     "name": "stdout",
     "output_type": "stream",
     "text": [
      "+-------------------------------------------------------------------------------------------------------------------------+\n",
      "|value                                                                                                                    |\n",
      "+-------------------------------------------------------------------------------------------------------------------------+\n",
      "|Innowacyjność_kraju =                                                                                                    |\n",
      "|(waga1 * patenty_na_milion) +                                                                                            |\n",
      "|(waga2 * nobliści_na_milion) +                                                                                           |\n",
      "|(waga3 * wydatki_na_R&D_%PKB) +                                                                                          |\n",
      "|(waga4 * liczba_badaczy_na_milion) -                                                                                     |\n",
      "|(waga5 * bezrobocie_wśród_absolwentów)                                                                                   |\n",
      "|                                                                                                                         |\n",
      "|                                                                                                                         |\n",
      "|źródła:                                                                                                                  |\n",
      "|- patenty\\t\\t\\t: plik - obliczyć dodatkowo kolumnę z patent_expansion_ratio = abroad_patents / (resident_patents + 1)    |\n",
      "|- nobliści\\t\\t\\t: https://api.nobelprize.org/2.1/nobelPrizes?offset=30&limit=50                                          |\n",
      "|- populacja\\t\\t\\t: https://api.worldbank.org/v2/country/all/indicator/SP.POP.TOTL?format=json&per_page=1000&page=1       |\n",
      "|- PKB\\t\\t\\t\\t: https://api.worldbank.org/v2/country/all/indicator/NY.GDP.MKTP.CD?format=json&per_page=1000               |\n",
      "|- R&D \\t\\t\\t\\t: https://api.worldbank.org/v2/country/all/indicator/GB.XPD.RSDV.GD.ZS?format=json                         |\n",
      "|- liczba badaczy\\t: https://api.worldbank.org/v2/country/all/indicator/SP.POP.SCIE.RD.P6?format=json&per_page=1000&page=1|\n",
      "|- bezrobocie\\t\\t: https://api.worldbank.org/v2/country/all/indicator/SL.UEM.TOTL.ZS?format=json&per_page=5000            |\n",
      "+-------------------------------------------------------------------------------------------------------------------------+\n",
      "\n"
     ]
    }
   ],
   "source": [
    "# Ścieżka do pliku\n",
    "file_path = \"abfss://bronze@demosurdevdatalake4418sa.dfs.core.windows.net/test.txt\"\n",
    "\n",
    "# Odczyt pliku tekstowego jako DataFrame z jedną kolumną \"value\"\n",
    "df_txt = spark.read.text(file_path)\n",
    "\n",
    "# Wyświetlamy zawartość\n",
    "df_txt.show(truncate=False)\n"
   ]
  }
 ],
 "metadata": {
  "kernelspec": {
   "display_name": ".venv",
   "language": "python",
   "name": "python3"
  },
  "language_info": {
   "codemirror_mode": {
    "name": "ipython",
    "version": 3
   },
   "file_extension": ".py",
   "mimetype": "text/x-python",
   "name": "python",
   "nbconvert_exporter": "python",
   "pygments_lexer": "ipython3",
   "version": "3.11.3"
  }
 },
 "nbformat": 4,
 "nbformat_minor": 2
}
