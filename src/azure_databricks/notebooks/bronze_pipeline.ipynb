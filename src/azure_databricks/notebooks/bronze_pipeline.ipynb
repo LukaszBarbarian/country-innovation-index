{
 "cells": [
  {
   "cell_type": "code",
   "execution_count": null,
   "metadata": {},
   "outputs": [],
   "source": [
    "from pyspark.sql import SparkSession\n",
    "import asyncio \n",
    "import os\n",
    "\n",
    "from azure_databricks.common.enums.etl_layers import ETLLayer\n",
    "from azure_databricks.common.enums.env import Env\n",
    "from azure_databricks.common.enums.domain_source import DomainSource # Nadal potrzebne, jeśli chcesz filtrować domeny\n",
    "from azure_databricks.common.orchestrators.main_orchestrator import MainETLOrchestrator\n",
    "\n",
    "import azure_databricks.common.orchestrators.register_all_domain_orchestrators \n",
    "import azure_databricks.common.transformers.register_all\n",
    "\n",
    "\n",
    "spark = SparkSession.builder.appName(\"LayerETLPipeline\").getOrCreate()\n",
    "dbutils = get_ipython().user_ns[\"dbutils\"]\n",
    "\n",
    "ENVIRONMENT = Env.DEV\n",
    "TARGET_ETL_LAYER = ETLLayer.BRONZE # <--- KLUCZOWY PARAMETR: Którą warstwę chcesz zbudować?\n",
    "\n",
    "main_orchestrator = MainETLOrchestrator(\n",
    "    spark=spark,\n",
    "    dbutils_obj=dbutils,\n",
    "    env=ENVIRONMENT\n",
    ")\n",
    "\n",
    "await main_orchestrator.execute_etl_layer_pipeline(target_etl_layer=TARGET_ETL_LAYER)\n",
    "\n",
    "catalog_name = main_orchestrator.config.get_unity_catalog_name()\n",
    "bronze_schema_name = ETLLayer.BRONZE.value\n",
    "who_countries_bronze_table_name = f\"{catalog_name}.{bronze_schema_name}.who_countries\"\n",
    "\n",
    "try:\n",
    "    df_who_countries_bronze = spark.table(who_countries_bronze_table_name)\n",
    "    df_who_countries_bronze.display()\n",
    "except Exception as e:\n",
    "    raise"
   ]
  }
 ],
 "metadata": {
  "language_info": {
   "name": "python"
  }
 },
 "nbformat": 4,
 "nbformat_minor": 2
}
