{
 "cells": [
  {
   "cell_type": "markdown",
   "metadata": {
    "application/vnd.databricks.v1+cell": {
     "cellMetadata": {
      "byteLimit": 2048000,
      "rowLimit": 10000
     },
     "inputWidgets": {},
     "nuid": "4d9772b8-34d5-4462-8381-46151ecc6d4f",
     "showTitle": false,
     "tableResultSettingsMap": {},
     "title": ""
    }
   },
   "source": [
    "init databricks libraries"
   ]
  },
  {
   "cell_type": "code",
   "execution_count": 0,
   "metadata": {
    "application/vnd.databricks.v1+cell": {
     "cellMetadata": {},
     "inputWidgets": {},
     "nuid": "5240230c-b483-42e2-b62c-44720a1c7519",
     "showTitle": false,
     "tableResultSettingsMap": {},
     "title": ""
    }
   },
   "outputs": [],
   "source": [
    "%pip install wheel\n",
    "import os\n",
    "import shutil\n",
    "import glob"
   ]
  },
  {
   "cell_type": "code",
   "execution_count": 0,
   "metadata": {
    "application/vnd.databricks.v1+cell": {
     "cellMetadata": {
      "byteLimit": 2048000,
      "rowLimit": 10000
     },
     "inputWidgets": {},
     "nuid": "b9b71456-1d7f-46a0-a0ae-0c9ce5b32602",
     "showTitle": false,
     "tableResultSettingsMap": {},
     "title": ""
    }
   },
   "outputs": [],
   "source": [
    "\n",
    "project_git_folder_path = \"/Workspace/Users/lukasz.surowiec_hotmail.com#ext#@lukaszsurowiechotmail.onmicrosoft.com/cv-demo1\"\n",
    "whl_file_name = \"cv_demo_databricks-0.1.0-py3-none-any.whl\"\n",
    "whl_full_path = f\"{project_git_folder_path}/dist/{whl_file_name}\"\n",
    "\n",
    "%cd {project_git_folder_path}"
   ]
  },
  {
   "cell_type": "code",
   "execution_count": 0,
   "metadata": {
    "application/vnd.databricks.v1+cell": {
     "cellMetadata": {
      "byteLimit": 2048000,
      "rowLimit": 10000
     },
     "inputWidgets": {},
     "nuid": "d5c55a44-e10c-41d1-8091-79c17476321e",
     "showTitle": false,
     "tableResultSettingsMap": {},
     "title": ""
    }
   },
   "outputs": [],
   "source": [
    "\n",
    "%sh python setup_databricks.py bdist_wheel"
   ]
  },
  {
   "cell_type": "code",
   "execution_count": 0,
   "metadata": {
    "application/vnd.databricks.v1+cell": {
     "cellMetadata": {
      "byteLimit": 2048000,
      "rowLimit": 10000
     },
     "inputWidgets": {},
     "nuid": "bd0380ff-fab0-4326-93e7-f2d57308f105",
     "showTitle": false,
     "tableResultSettingsMap": {},
     "title": ""
    }
   },
   "outputs": [],
   "source": [
    "%pip install --force-reinstall \"{whl_full_path}\""
   ]
  },
  {
   "cell_type": "code",
   "execution_count": 0,
   "metadata": {
    "application/vnd.databricks.v1+cell": {
     "cellMetadata": {
      "byteLimit": 2048000,
      "rowLimit": 10000
     },
     "inputWidgets": {},
     "nuid": "86344b5a-a08d-445d-a56a-3e8712228269",
     "showTitle": false,
     "tableResultSettingsMap": {},
     "title": ""
    }
   },
   "outputs": [],
   "source": [
    "dbutils.library.restartPython()"
   ]
  },
  {
   "cell_type": "code",
   "execution_count": 0,
   "metadata": {
    "application/vnd.databricks.v1+cell": {
     "cellMetadata": {},
     "inputWidgets": {},
     "nuid": "8c89b758-75df-4c4f-bf3a-fcc148e7b46a",
     "showTitle": false,
     "tableResultSettingsMap": {},
     "title": ""
    }
   },
   "outputs": [],
   "source": [
    "build_path = os.path.join(project_git_folder_path, \"build\")\n",
    "if os.path.exists(build_path):\n",
    "    try:\n",
    "        shutil.rmtree(build_path)\n",
    "    except Exception as e:\n",
    "        raise\n",
    "\n",
    "dist_path = os.path.join(project_git_folder_path, \"dist\")\n",
    "if os.path.exists(dist_path):\n",
    "    try:\n",
    "        shutil.rmtree(dist_path)\n",
    "    except Exception as e:\n",
    "        raise\n",
    "\n",
    "egg_info_pattern = os.path.join(project_git_folder_path, \"*.egg-info\")\n",
    "\n",
    "for egg_path in glob.glob(egg_info_pattern):\n",
    "    try:\n",
    "        if os.path.isdir(egg_path):\n",
    "            shutil.rmtree(egg_path)\n",
    "        else:\n",
    "            os.remove(egg_path)\n",
    "    except Exception as e:\n",
    "        raise"
   ]
  }
 ],
 "metadata": {
  "application/vnd.databricks.v1+notebook": {
   "computePreferences": null,
   "dashboards": [],
   "environmentMetadata": {
    "base_environment": "",
    "environment_version": "2"
   },
   "inputWidgetPreferences": null,
   "language": "python",
   "notebookMetadata": {
    "mostRecentlyExecutedCommandWithImplicitDF": {
     "commandId": 5036930176588476,
     "dataframes": [
      "_sqldf"
     ]
    },
    "pythonIndentUnit": 4
   },
   "notebookName": "init_environment",
   "widgets": {}
  },
  "language_info": {
   "name": "python"
  }
 },
 "nbformat": 4,
 "nbformat_minor": 0
}
