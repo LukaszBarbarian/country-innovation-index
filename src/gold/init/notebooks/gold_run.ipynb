{
 "cells": [
  {
   "cell_type": "code",
   "execution_count": null,
   "metadata": {},
   "outputs": [],
   "source": [
    "# main.py\n",
    "import asyncio\n",
    "from asyncio.log import logger\n",
    "import json\n",
    "import sys\n",
    "\n",
    "\n",
    "from src.gold.contexts.gold_parser import GoldParser\n",
    "from src.common.azure_clients.event_grid_client_manager import EventGridClientManager\n",
    "from src.common.models.orchestrator_result import OrchestratorResult\n",
    "from src.common.enums.etl_layers import ETLLayer\n",
    "from src.common.config.config_manager import ConfigManager\n",
    "from src.common.spark.spark_service import SparkService\n",
    "from src.common.factories.orchestrator_factory import OrchestratorFactory\n",
    "import src.gold.init.gold_init"
   ]
  },
  {
   "cell_type": "code",
   "execution_count": null,
   "metadata": {},
   "outputs": [],
   "source": [
    "def send_event_grid_notification(config: ConfigManager, orchestrator_result: OrchestratorResult):\n",
    "        \"\"\"\n",
    "        Tworzy i wysyła powiadomienie Event Grid na podstawie OrchestratorResult.\n",
    "        \"\"\"\n",
    "        logger.info(f\"Sending Event Grid notification for correlation ID: {orchestrator_result.correlation_id}\")\n",
    "        \n",
    "\n",
    "        event_grid_client = EventGridClientManager(\n",
    "            endpoint=config.get(\"EVENT_GRID_ENDPOINT\"),\n",
    "            key=config.get(\"EVENT_GRID_KEY\")\n",
    "        )\n",
    "        if not event_grid_client:\n",
    "            logger.error(\"Event Grid client not initialized. Cannot send event.\")\n",
    "            return\n",
    "\n",
    "        payload = {\n",
    "            \"layer\": orchestrator_result.etl_layer.value,\n",
    "            \"env\": orchestrator_result.env.value,\n",
    "            \"status\": orchestrator_result.status,\n",
    "            \"message_date\": orchestrator_result.timestamp.isoformat(),\n",
    "            \"correlation_id\": orchestrator_result.correlation_id,\n",
    "            \"manifest\": \"/gold/manifest/dev.manifest.json\",\n",
    "            \"summary_processing_uri\": orchestrator_result.summary_url,\n",
    "            \"duration_in_ms\": orchestrator_result.duration_in_ms\n",
    "        }\n",
    "\n",
    "        try:\n",
    "            event_grid_client.send_event(\n",
    "                event_type=f\"{orchestrator_result.etl_layer.value.capitalize()}ProcessCompleted\",\n",
    "                subject=f\"/{orchestrator_result.etl_layer.value}/processing/{orchestrator_result.correlation_id}\",\n",
    "                data=payload\n",
    "            )\n",
    "            logger.info(\"Event Grid notification sent successfully.\")\n",
    "        except Exception as e:\n",
    "            logger.error(f\"Failed to send Event Grid notification: {e}\", exc_info=True)\n",
    "            \n",
    "\n"
   ]
  },
  {
   "cell_type": "code",
   "execution_count": null,
   "metadata": {},
   "outputs": [],
   "source": [
    "dbutils.widgets.text(\"summary_json\", \"\")\n",
    "dbutils.widgets.text(\"manifest_json\", \"\")\n",
    "\n",
    "manifest_json = dbutils.widgets.get(\"manifest_json\")\n",
    "summary_json = dbutils.widgets.get(\"summary_json\")\n",
    "\n",
    "config = ConfigManager()\n",
    "context = GoldParser(config).parse(manifest_json=manifest_json, summary_json=summary_json)\n",
    "\n",
    "spark = SparkService(config)\n",
    "spark.start_local()\n",
    "\n",
    "\n",
    "orchestrator = OrchestratorFactory.get_instance(ETLLayer.GOLD, spark=spark, config=config)\n",
    "result = asyncio.run(orchestrator.execute(context))\n",
    "send_event_grid_notification(config=config, orchestrator_result=result)"
   ]
  }
 ],
 "metadata": {
  "language_info": {
   "name": "python"
  }
 },
 "nbformat": 4,
 "nbformat_minor": 2
}
